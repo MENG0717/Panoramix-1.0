{
 "cells": [
  {
   "cell_type": "code",
   "execution_count": 1,
   "metadata": {},
   "outputs": [],
   "source": [
    "import pandas as pd"
   ]
  },
  {
   "cell_type": "code",
   "execution_count": 29,
   "metadata": {},
   "outputs": [],
   "source": [
    "raw_mat_bounds = pd.read_excel('../data/input.xlsx', sheet_name='1_raw_material_bounds',\n",
    "                              index_col='raw material')\n",
    "feasible_mixes = pd.read_excel('../data/input.xlsx', sheet_name='2_feasible_mixes',\n",
    "                              index_col='raw material')"
   ]
  },
  {
   "cell_type": "code",
   "execution_count": 26,
   "metadata": {},
   "outputs": [
    {
     "data": {
      "text/plain": [
       "array(['clinker, Portland cement', 'slag, blast furnace', 'silica fume',\n",
       "       'pozzolana, natural', 'pozzolana, natural calcined',\n",
       "       'fly ash, siliceous', 'fly ash, calcareous', 'shale, burnt',\n",
       "       'limestone, TOC < 0.5 mass%', 'limestone, TOC < 0.2 mass%',\n",
       "       'red mud', 'slag, steel', 'slag, copper', 'slag, lead',\n",
       "       'bottom ash', 'volcanic ash', 'boiler ash', 'aluminium dross',\n",
       "       'calcium sulfate', 'water'], dtype=object)"
      ]
     },
     "execution_count": 26,
     "metadata": {},
     "output_type": "execute_result"
    }
   ],
   "source": [
    "feasible_mixes['raw material'].get_values()"
   ]
  },
  {
   "cell_type": "code",
   "execution_count": 31,
   "metadata": {},
   "outputs": [
    {
     "name": "stdout",
     "output_type": "stream",
     "text": [
      "clinker, Portland cement\n",
      "slag, blast furnace\n",
      "silica fume\n",
      "pozzolana, natural\n",
      "pozzolana, natural calcined\n",
      "fly ash, siliceous\n",
      "fly ash, calcareous\n",
      "shale, burnt\n",
      "limestone, TOC < 0.5 mass%\n",
      "limestone, TOC < 0.2 mass%\n",
      "red mud\n",
      "slag, steel\n",
      "slag, copper\n",
      "slag, lead\n",
      "bottom ash\n",
      "volcanic ash\n",
      "boiler ash\n",
      "aluminium dross\n",
      "calcium sulfate\n",
      "water\n"
     ]
    }
   ],
   "source": [
    "for raw_mat in raw_mat_bounds.index:\n",
    "    print(raw_mat)\n",
    "    assert raw_mat in feasible_mixes.index"
   ]
  },
  {
   "cell_type": "code",
   "execution_count": 12,
   "metadata": {},
   "outputs": [
    {
     "data": {
      "text/plain": [
       "array(['clinker, Portland cement', 'slag, blast furnace', 'silica fume',\n",
       "       'pozzolana, natural', 'pozzolana, natural calcined',\n",
       "       'fly ash, siliceous', 'fly ash, calcareous', 'shale, burnt',\n",
       "       'limestone, TOC < 0.5 mass%', 'limestone, TOC < 0.2 mass%',\n",
       "       'red mud', 'slag, steel', 'slag, copper', 'slag, lead',\n",
       "       'bottom ash', 'volcanic ash', 'boiler ash', 'aluminium dross',\n",
       "       'calcium sulfate', 'water'], dtype=object)"
      ]
     },
     "execution_count": 12,
     "metadata": {},
     "output_type": "execute_result"
    }
   ],
   "source": [
    "b = feasible_mixes['raw material']\n",
    "b.get_values()"
   ]
  },
  {
   "cell_type": "code",
   "execution_count": 69,
   "metadata": {},
   "outputs": [
    {
     "data": {
      "text/plain": [
       "CaO lower (mass%)      False\n",
       "CaO upper (mass%)      False\n",
       "CaO distribution       False\n",
       "SiO2 lower (mass%)     False\n",
       "SiO2 upper (mass%)     False\n",
       "SiO2 distribution      False\n",
       "Al2O3 lower (mass%)    False\n",
       "Al2O3 upper (mass%)    False\n",
       "Al2O3 distribution     False\n",
       "Fe2O3 lower (mass%)    False\n",
       "Fe2O3 upper (mass%)    False\n",
       "Fe2O3 distribution     False\n",
       "MgO lower (mass%)      False\n",
       "MgO upper (mass%)      False\n",
       "MgO distribution       False\n",
       "SO3 lower (mass%)      False\n",
       "SO3 upper (mass%)      False\n",
       "SO3 distribution       False\n",
       "K2O lower (mass%)      False\n",
       "K2O upper (mass%)      False\n",
       "K2O distribution       False\n",
       "Na2O lower (mass%)     False\n",
       "Na2O upper (mass%)     False\n",
       "Na2O distribution      False\n",
       "CO2 lower (mass%)      False\n",
       "CO2 upper (mass%)      False\n",
       "CO2 distribution       False\n",
       "H2O lower (mass%)      False\n",
       "H2O upper (mass%)      False\n",
       "H2O distribution       False\n",
       "other lower (mass%)    False\n",
       "other upper (mass%)    False\n",
       "Name: water, dtype: bool"
      ]
     },
     "execution_count": 69,
     "metadata": {},
     "output_type": "execute_result"
    }
   ],
   "source": [
    "raw_mat_bounds.loc['water'].drop(['citation', 'other distribution']).isnull()"
   ]
  },
  {
   "cell_type": "code",
   "execution_count": 50,
   "metadata": {},
   "outputs": [
    {
     "name": "stdout",
     "output_type": "stream",
     "text": [
      "clinker, Portland cement\n",
      "slag, blast furnace\n",
      "silica fume\n",
      "pozzolana, natural\n",
      "pozzolana, natural calcined\n",
      "fly ash, siliceous\n",
      "fly ash, calcareous\n",
      "shale, burnt\n",
      "limestone, TOC < 0.5 mass%\n",
      "limestone, TOC < 0.2 mass%\n",
      "red mud\n",
      "slag, steel\n",
      "slag, copper\n",
      "slag, lead\n",
      "bottom ash\n",
      "volcanic ash\n",
      "boiler ash\n",
      "aluminium dross\n",
      "calcium sulfate\n",
      "water\n"
     ]
    }
   ],
   "source": [
    "for i in raw_mat_bounds.index:\n",
    "    print(i)"
   ]
  }
 ],
 "metadata": {
  "kernelspec": {
   "display_name": "Python 3",
   "language": "python",
   "name": "python3"
  },
  "language_info": {
   "codemirror_mode": {
    "name": "ipython",
    "version": 3
   },
   "file_extension": ".py",
   "mimetype": "text/x-python",
   "name": "python",
   "nbconvert_exporter": "python",
   "pygments_lexer": "ipython3",
   "version": "3.7.0"
  }
 },
 "nbformat": 4,
 "nbformat_minor": 2
}
